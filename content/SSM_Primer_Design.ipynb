{
 "cells": [
  {
   "cell_type": "markdown",
   "id": "fee2ef86",
   "metadata": {},
   "source": [
    "# Site Saturation Mutagenesis Primer Design\n",
    "\n",
    "Designs primers for generating site saturation mutagenesis libraries. \n",
    "\n",
    "**Inputs**\n",
    "- **Genbank file** containing ORF in relevant plasmid context. See example file.\n",
    "- **Position csv file** containing amino acid positions. See example file.\n",
    "- **Codon Mutation** - three-letter nucleotide string that would be introduced as a codon with primer e.g. \"NNK\", \"NRT\", etc.\n",
    "- **Assembly Strategy** - KLD or Gibson assembly strategy determines primer design. Primers with longer overhangs will be used in Gibson assembly and primers with only degenerate codon sequence will be used in KLD.\n",
    "- **Melting temperature** - temperature at which one-half of the DNA duplex will dissociate to become single-stranded. Tm for forward primer will be calculated from sequence downstream of mutagenesis codon.\n",
    "- **Annotation** - annotation of sequence that will be targeted in mutagenesis.\n",
    "\n",
    "**Outputs**\n",
    "- **Output Excel File** - Primers in an IDT 96-well plate format."
   ]
  },
  {
   "cell_type": "code",
   "execution_count": 1,
   "id": "328ad93d",
   "metadata": {},
   "outputs": [
    {
     "data": {
      "application/vnd.jupyter.widget-view+json": {
       "model_id": "a2d6eb3712364f28b4ee8bce16c957c2",
       "version_major": 2,
       "version_minor": 0
      },
      "text/plain": [
       "VBox(children=(FileUpload(value={}, accept='.gbk', description='GenBank File'), FileUpload(value={}, accept='.…"
      ]
     },
     "metadata": {},
     "output_type": "display_data"
    },
    {
     "data": {
      "application/vnd.jupyter.widget-view+json": {
       "model_id": "4e248290cd9f415b930b69c788077798",
       "version_major": 2,
       "version_minor": 0
      },
      "text/plain": [
       "Output()"
      ]
     },
     "metadata": {},
     "output_type": "display_data"
    }
   ],
   "source": [
    "import SSM\n",
    "SSM.ssm_ui()"
   ]
  },
  {
   "cell_type": "code",
   "execution_count": null,
   "id": "ebbf3dcf",
   "metadata": {},
   "outputs": [],
   "source": []
  }
 ],
 "metadata": {
  "kernelspec": {
   "display_name": "Python 3",
   "language": "python",
   "name": "python3"
  },
  "language_info": {
   "codemirror_mode": {
    "name": "ipython",
    "version": 3
   },
   "file_extension": ".py",
   "mimetype": "text/x-python",
   "name": "python",
   "nbconvert_exporter": "python",
   "pygments_lexer": "ipython3",
   "version": "3.8.8"
  }
 },
 "nbformat": 4,
 "nbformat_minor": 5
}
